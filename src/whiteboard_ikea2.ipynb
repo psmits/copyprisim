{
 "cells": [
  {
   "cell_type": "code",
   "execution_count": 47,
   "metadata": {},
   "outputs": [],
   "source": [
    "from bs4 import BeautifulSoup\n",
    "import time\n",
    "import requests\n",
    "import pandas as pd\n",
    "import csv\n",
    "from random import randint\n",
    "import sys"
   ]
  },
  {
   "cell_type": "code",
   "execution_count": 48,
   "metadata": {},
   "outputs": [],
   "source": [
    "headers = {\"User-Agent\":\"Ubuntu Chromium/76.0.3809.100\"}\n",
    "           #Mozilla/5.0 (X11; Linux x86_64) \n",
    "           #AppleWebKit/537.36 (KHTML, like Gecko) \n",
    "           #Chrome/76.0.3809.100 Safari/537.36}\n",
    "ikea_base = 'https://www.ikea.com'\n",
    "ikea_series = '/us/en/cat/series-series/'\n",
    "url = ikea_base + ikea_series\n",
    "\n",
    "r = requests.get(url, headers = headers)\n",
    "soup = BeautifulSoup(r.text, 'lxml')\n",
    "\n",
    "# list of all series\n",
    "# find all series links\n",
    "series_list = soup.find_all('li', {'class': 'range-catalog-list__item'})\n",
    "\n",
    "series_link = []\n",
    "for req in series_list:\n",
    "    series_href = req.find_all('a', href=True)\n",
    "    for sh in series_href:\n",
    "        series_link.append(sh['href'])"
   ]
  },
  {
   "cell_type": "code",
   "execution_count": 49,
   "metadata": {},
   "outputs": [
    {
     "name": "stdout",
     "output_type": "stream",
     "text": [
      "239\n"
     ]
    }
   ],
   "source": [
    "print(len(series_link))"
   ]
  },
  {
   "cell_type": "code",
   "execution_count": 104,
   "metadata": {},
   "outputs": [],
   "source": [
    "# for each family get all products\n",
    "all_product_link = []\n",
    "all_product_img = []\n",
    "for re in series_link[:10]:\n",
    "    url = re\n",
    "    r = requests.get(url, headers=headers)\n",
    "    series_soup = BeautifulSoup(r.text, 'lxml')\n",
    "    item_list = series_soup.find_all('div', {'class': 'product-compact__spacer'})\n",
    "\n",
    "    item_links = []\n",
    "    img_links = []\n",
    "    for il in item_list:\n",
    "        item_href = il.find_all('a', href=True)\n",
    "        for ih in item_href:\n",
    "            item_links.append(ih['href'])\n",
    "        img_links.append(il.img['src'])\n",
    "    \n",
    "    all_product_link.append(item_links)\n",
    "    all_product_img.append(img_links)\n",
    "    # \n",
    "    # # breath\n",
    "    # time.sleep(1)\n",
    "\n",
    "# unique-ness issues\n",
    "all_product_link_temp = [list(set(apl)) for apl in all_product_link]\n",
    "# all_product_link_temp = [val for sublist in all_product_link_temp for val in sublist]\n",
    "# \n",
    "all_product_img_temp = [list(set(apl)) for apl in all_product_img]\n",
    "# all_product_img_temp = [val for sublist in all_product_img_temp for val in sublist]"
   ]
  },
  {
   "cell_type": "code",
   "execution_count": 117,
   "metadata": {},
   "outputs": [
    {
     "name": "stdout",
     "output_type": "stream",
     "text": [
      "['https://www.ikea.com/us/en/p/allemansraetten-meatballs-frozen-84-meat-content-00346407/', 'https://www.ikea.com/us/en/p/allemansraetten-mashed-potatoes-frozen-30351280/', 'https://www.ikea.com/us/en/p/allemansraetten-mix-for-cream-sauce-70354309/', 'https://www.ikea.com/us/en/p/allemansraetten-vegetable-balls-frozen-100-vegetables-vegan-40346434/']\n",
      "<class 'list'>\n",
      "<class 'list'>\n"
     ]
    }
   ],
   "source": [
    "print(all_product_link_temp[0])\n",
    "\n",
    "print(type(all_product_link_temp))\n",
    "print(type(all_product_img_temp))"
   ]
  },
  {
   "cell_type": "code",
   "execution_count": 72,
   "metadata": {},
   "outputs": [
    {
     "ename": "TypeError",
     "evalue": "'NoneType' object is not callable",
     "output_type": "error",
     "traceback": [
      "\u001b[0;31m---------------------------------------------------------------------------\u001b[0m",
      "\u001b[0;31mTypeError\u001b[0m                                 Traceback (most recent call last)",
      "\u001b[0;32m<ipython-input-72-a0342eeba547>\u001b[0m in \u001b[0;36m<module>\u001b[0;34m()\u001b[0m\n\u001b[0;32m----> 1\u001b[0;31m \u001b[0mall_prod\u001b[0m \u001b[0;34m=\u001b[0m \u001b[0mpd\u001b[0m\u001b[0;34m.\u001b[0m\u001b[0mDataFrame\u001b[0m\u001b[0;34m(\u001b[0m\u001b[0mlist\u001b[0m\u001b[0;34m(\u001b[0m\u001b[0mzip\u001b[0m\u001b[0;34m(\u001b[0m\u001b[0mall_product_link\u001b[0m\u001b[0;34m,\u001b[0m \u001b[0mall_product_img\u001b[0m\u001b[0;34m)\u001b[0m\u001b[0;34m)\u001b[0m\u001b[0;34m,\u001b[0m \u001b[0mcolumns\u001b[0m \u001b[0;34m=\u001b[0m \u001b[0;34m[\u001b[0m\u001b[0;34m'link'\u001b[0m\u001b[0;34m,\u001b[0m \u001b[0;34m'img_url'\u001b[0m\u001b[0;34m]\u001b[0m\u001b[0;34m)\u001b[0m\u001b[0;34m\u001b[0m\u001b[0;34m\u001b[0m\u001b[0m\n\u001b[0m",
      "\u001b[0;31mTypeError\u001b[0m: 'NoneType' object is not callable"
     ]
    }
   ],
   "source": [
    "all_prod = pd.DataFrame(list(zip(all_product_link, all_product_img)), \n",
    "                        columns=['link', 'img_url'])"
   ]
  },
  {
   "cell_type": "code",
   "execution_count": 70,
   "metadata": {},
   "outputs": [
    {
     "name": "stdout",
     "output_type": "stream",
     "text": [
      "440\n",
      "440\n"
     ]
    },
    {
     "data": {
      "text/plain": [
       "'https://www.ikea.com/us/en/p/duktig-9-piece-fruit-basket-set-30185747/'"
      ]
     },
     "execution_count": 70,
     "metadata": {},
     "output_type": "execute_result"
    }
   ],
   "source": [
    "all_product_link = list(set(all_product_link))\n",
    "all_product_img = list(set(all_product_img))\n",
    "print(len(all_product_link))\n",
    "print(len(all_product_img))\n",
    "all_product_link[0]"
   ]
  },
  {
   "cell_type": "code",
   "execution_count": 64,
   "metadata": {},
   "outputs": [],
   "source": [
    "all_product_desc = []\n",
    "for re in all_product_link:\n",
    "    url = re + '?page=10'\n",
    "    r = requests.get(url, headers = headers)\n",
    "    soup = BeautifulSoup(r.text, 'lxml')\n",
    "    \n",
    "    product_html = soup.find_all('meta', {'itemprop': 'description'})\n",
    "   \n",
    "    # there is probably only one of these anyway\n",
    "    product_desc = []\n",
    "    for pd in product_html:\n",
    "        product_desc.append(pd['content'])\n",
    "        \n",
    "    all_product_desc.append(product_desc)\n",
    "    \n",
    "    # breath\n",
    "    time.sleep(1)"
   ]
  },
  {
   "cell_type": "code",
   "execution_count": 22,
   "metadata": {},
   "outputs": [],
   "source": [
    "output = pd.DataFrame(list(zip(info_picture, info_corpus)),\n",
    "                      columns = ['img_url', 'description'])\n",
    "\n",
    "output.to_csv('/home/peter/Documents/projects/insight/copyprisim/results/example.csv')"
   ]
  },
  {
   "cell_type": "code",
   "execution_count": null,
   "metadata": {},
   "outputs": [],
   "source": []
  }
 ],
 "metadata": {
  "kernelspec": {
   "display_name": "Python 3",
   "language": "python",
   "name": "python3"
  },
  "language_info": {
   "codemirror_mode": {
    "name": "ipython",
    "version": 3
   },
   "file_extension": ".py",
   "mimetype": "text/x-python",
   "name": "python",
   "nbconvert_exporter": "python",
   "pygments_lexer": "ipython3",
   "version": "3.6.8"
  }
 },
 "nbformat": 4,
 "nbformat_minor": 2
}
