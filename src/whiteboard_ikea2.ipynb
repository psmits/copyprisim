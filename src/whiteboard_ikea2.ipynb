{
 "cells": [
  {
   "cell_type": "code",
   "execution_count": 47,
   "metadata": {},
   "outputs": [],
   "source": [
    "from bs4 import BeautifulSoup\n",
    "import time\n",
    "import requests\n",
    "import pandas as pd\n",
    "import csv\n",
    "from random import randint\n",
    "import sys"
   ]
  },
  {
   "cell_type": "code",
   "execution_count": 48,
   "metadata": {},
   "outputs": [],
   "source": [
    "headers = {\"User-Agent\":\"Ubuntu Chromium/76.0.3809.100\"}\n",
    "           #Mozilla/5.0 (X11; Linux x86_64) \n",
    "           #AppleWebKit/537.36 (KHTML, like Gecko) \n",
    "           #Chrome/76.0.3809.100 Safari/537.36}\n",
    "ikea_base = 'https://www.ikea.com'\n",
    "ikea_series = '/us/en/cat/series-series/'\n",
    "url = ikea_base + ikea_series\n",
    "\n",
    "r = requests.get(url, headers = headers)\n",
    "soup = BeautifulSoup(r.text, 'lxml')\n",
    "\n",
    "# list of all series\n",
    "# find all series links\n",
    "series_list = soup.find_all('li', {'class': 'range-catalog-list__item'})\n",
    "\n",
    "series_link = []\n",
    "for req in series_list:\n",
    "    series_href = req.find_all('a', href=True)\n",
    "    for sh in series_href:\n",
    "        series_link.append(sh['href'])"
   ]
  },
  {
   "cell_type": "code",
   "execution_count": 49,
   "metadata": {},
   "outputs": [
    {
     "name": "stdout",
     "output_type": "stream",
     "text": [
      "239\n"
     ]
    }
   ],
   "source": [
    "print(len(series_link))"
   ]
  },
  {
   "cell_type": "code",
   "execution_count": 104,
   "metadata": {},
   "outputs": [],
   "source": [
    "# for each family get all products\n",
    "all_product_link = []\n",
    "all_product_img = []\n",
    "for re in series_link[:10]:\n",
    "    url = re\n",
    "    r = requests.get(url, headers=headers)\n",
    "    series_soup = BeautifulSoup(r.text, 'lxml')\n",
    "    item_list = series_soup.find_all('div', {'class': 'product-compact__spacer'})\n",
    "\n",
    "    item_links = []\n",
    "    img_links = []\n",
    "    for il in item_list:\n",
    "        item_href = il.find_all('a', href=True)\n",
    "        for ih in item_href:\n",
    "            item_links.append(ih['href'])\n",
    "        img_links.append(il.img['src'])\n",
    "    \n",
    "    all_product_link.append(item_links)\n",
    "    all_product_img.append(img_links)\n",
    "    # \n",
    "    # # breath\n",
    "    # time.sleep(1)\n",
    "\n",
    "# unique-ness issues\n",
    "all_product_link_temp = [list(set(apl)) for apl in all_product_link]\n",
    "# all_product_link_temp = [val for sublist in all_product_link_temp for val in sublist]\n",
    "# \n",
    "all_product_img_temp = [list(set(apl)) for apl in all_product_img]\n",
    "# all_product_img_temp = [val for sublist in all_product_img_temp for val in sublist]"
   ]
  },
  {
   "cell_type": "code",
   "execution_count": 118,
   "metadata": {},
   "outputs": [
    {
     "name": "stdout",
     "output_type": "stream",
     "text": [
      "[['https://www.ikea.com/us/en/p/allemansraetten-meatballs-frozen-84-meat-content-00346407/', 'https://www.ikea.com/us/en/p/allemansraetten-mashed-potatoes-frozen-30351280/', 'https://www.ikea.com/us/en/p/allemansraetten-mix-for-cream-sauce-70354309/', 'https://www.ikea.com/us/en/p/allemansraetten-vegetable-balls-frozen-100-vegetables-vegan-40346434/'], ['https://www.ikea.com/us/en/p/anilinare-notepad-white-blue-60428004/', 'https://www.ikea.com/us/en/p/anilinare-folder-with-stickers-white-blue-70428013/', 'https://www.ikea.com/us/en/p/anilinare-decorative-box-white-blue-90428210/', 'https://www.ikea.com/us/en/p/anilinare-notebook-white-blue-80428003/', 'https://www.ikea.com/us/en/p/anilinare-binder-clip-70428008/', 'https://www.ikea.com/us/en/p/anilinare-notebook-cork-30428010/', 'https://www.ikea.com/us/en/p/anilinare-decorative-box-set-of-2-white-blue-00428196/'], ['https://www.ikea.com/us/en/p/aepplaroe-gateleg-table-outdoor-brown-stained-brown-50208535/', 'https://www.ikea.com/us/en/p/aepplaroe-bar-stool-with-backrest-outdoor-brown-stained-70288036/', 'https://www.ikea.com/us/en/p/aepplaroe-one-seat-section-outdoor-brown-stained-brown-60205188/', 'https://www.ikea.com/us/en/p/aepplaroe-table-6-armchairs-outdoor-brown-stained-brown-s39898474/', 'https://www.ikea.com/us/en/p/aepplaroe-bench-with-wall-panel-outdoor-brown-stained-brown-s29898342/', 'https://www.ikea.com/us/en/p/aepplaroe-armchair-outdoor-brown-stained-brown-20208527/', 'https://www.ikea.com/us/en/p/aepplaroe-storage-bench-outdoor-brown-stained-brown-90234207/', 'https://www.ikea.com/us/en/p/aepplaroe-reclining-chair-outdoor-brown-foldable-brown-stained-brown-70208539/', 'https://www.ikea.com/us/en/p/aepplaroe-drop-leaf-table-outdoor-brown-stained-brown-40208531/', 'https://www.ikea.com/us/en/p/aepplaroe-corner-section-outdoor-brown-stained-brown-50205179/', 'https://www.ikea.com/us/en/p/aepplaroe-stool-outdoor-foldable-brown-stained-20204925/', 'https://www.ikea.com/us/en/p/aepplaroe-table-6-reclining-chairs-outdoor-brown-stained-s69053915/', 'https://www.ikea.com/us/en/p/aepplaroe-bench-outdoor-brown-stained-brown-10205181/', 'https://www.ikea.com/us/en/p/aepplaroe-table-outdoor-brown-stained-70419787/', 'https://www.ikea.com/us/en/p/aepplaroe-klasen-storage-cabinet-outdoor-brown-stained-stainless-steel-color-s09129999/', 'https://www.ikea.com/us/en/p/aepplaroe-bench-with-backrest-outdoor-brown-stained-brown-80208529/', 'https://www.ikea.com/us/en/p/aepplaroe-storage-bench-outdoor-brown-stained-brown-70204923/', 'https://www.ikea.com/us/en/p/aepplaroe-bar-table-and-2-bar-stools-brown-stained-brown-s99054013/', 'https://www.ikea.com/us/en/p/aepplaroe-chaise-brown-stained-brown-90208543/', 'https://www.ikea.com/us/en/p/aepplaroe-table-2-benches-outdoor-brown-stained-s39053931/', 'https://www.ikea.com/us/en/p/aepplaroe-table-2-armchairs-bench-outdoor-brown-stained-brown-s49898478/', 'https://www.ikea.com/us/en/p/aepplaroe-table-stool-section-outdoor-brown-stained-brown-80213446/', 'https://www.ikea.com/us/en/p/aepplaroe-table-4-reclining-chairs-outdoor-brown-stained-s59048397/', 'https://www.ikea.com/us/en/p/aepplaroe-table-8-reclining-chairs-outdoor-brown-stained-s69053982/'], ['https://www.ikea.com/us/en/p/arkelstorp-coffee-table-black-30354127/', 'https://www.ikea.com/us/en/p/arkelstorp-sideboard-black-90354129/', 'https://www.ikea.com/us/en/p/arkelstorp-desk-black-10354128/', 'https://www.ikea.com/us/en/p/arkelstorp-console-table-black-70354130/'], ['https://www.ikea.com/us/en/p/arstid-ceiling-lamp-white-30176045/'], ['https://www.ikea.com/us/en/p/arv-18-piece-dinnerware-set-white-80187862/', 'https://www.ikea.com/us/en/p/arv-plate-lilac-glazed-earthenware-40351977/', 'https://www.ikea.com/us/en/p/arv-bowl-white-green-60408459/', 'https://www.ikea.com/us/en/p/arv-side-plate-lilac-glazed-earthenware-00351979/', 'https://www.ikea.com/us/en/p/arv-bowl-lilac-glazed-earthenware-30351973/', 'https://www.ikea.com/us/en/p/arv-side-plate-white-green-30408465/', 'https://www.ikea.com/us/en/p/arv-broellop-cake-stand-with-lid-clear-glass-40125550/'], ['https://www.ikea.com/us/en/p/askholmen-table-for-wall-outdoor-folding-gray-brown-stained-light-brown-stained-light-brown-80321021/', 'https://www.ikea.com/us/en/p/askholmen-plant-stand-light-brown-stained-gray-brown-stained-light-brown-gray-brown-10258669/', 'https://www.ikea.com/us/en/p/askholmen-table-2-chairs-outdoor-gray-brown-stained-kuddarna-gray-s59286152/', 'https://www.ikea.com/us/en/p/askholmen-wall-table-2-folding-chairs-outdoor-gray-brown-gray-brown-stained-s19177918/', 'https://www.ikea.com/us/en/p/askholmen-chair-outdoor-gray-brown-foldable-gray-brown-stained-light-brown-light-brown-stained-50240031/', 'https://www.ikea.com/us/en/p/askholmen-flower-box-light-brown-stained-gray-brown-stained-light-brown-gray-brown-30258673/', 'https://www.ikea.com/us/en/p/askholmen-table-outdoor-gray-brown-foldable-gray-brown-stained-light-brown-stained-light-brown-60240035/', 'https://www.ikea.com/us/en/p/askholmen-wall-table-folding-chair-outdoor-gray-brown-stained-s29133405/', 'https://www.ikea.com/us/en/p/askholmen-trellis-light-brown-stained-gray-brown-stained-light-brown-gray-brown-70258671/', 'https://www.ikea.com/us/en/p/askholmen-wall-table-2-folding-chairs-outdoor-gray-brown-stained-froesoen-duvholmen-dark-gray-s49262316/', 'https://www.ikea.com/us/en/p/askholmen-wall-table-folding-chair-outdoor-gray-brown-stained-froesoen-duvholmen-beige-s29268951/'], ['https://www.ikea.com/us/en/p/askvoll-bed-frame-white-20387114/', 'https://www.ikea.com/us/en/p/askvoll-bed-frame-white-loenset-s99262446/', 'https://www.ikea.com/us/en/p/askvoll-bed-frame-white-s99019722/'], ['https://www.ikea.com/us/en/p/askvoll-5-drawer-chest-white-stained-oak-effect-white-60360396/', 'https://www.ikea.com/us/en/p/askvoll-bed-frame-white-s99019722/', 'https://www.ikea.com/us/en/p/askvoll-2-drawer-chest-white-stained-oak-effect-white-20270816/', 'https://www.ikea.com/us/en/p/askvoll-bed-frame-white-loenset-s99262446/', 'https://www.ikea.com/us/en/p/askvoll-3-drawer-chest-white-stained-oak-effect-white-50318572/'], ['https://www.ikea.com/us/en/p/backig-side-plate-black-20439085/', 'https://www.ikea.com/us/en/p/backig-serving-plate-black-00339949/', 'https://www.ikea.com/us/en/p/backig-deep-plate-bowl-black-20439047/', 'https://www.ikea.com/us/en/p/backig-plate-black-20439052/', 'https://www.ikea.com/us/en/p/backig-bowl-black-30439018/']]\n",
      "[['https://www.ikea.com/PIAimages/0485983_PE621755_S5.JPG?f=xs', 'https://www.ikea.com/PIAimages/0485990_PE621758_S5.JPG?f=xs', 'https://www.ikea.com/PIAimages/0485995_PE621761_S5.JPG?f=xs', 'https://www.ikea.com/PIAimages/0485986_PE621757_S5.JPG?f=xs'], ['https://www.ikea.com/PIAimages/0669851_PE716472_S5.JPG?f=xs', 'https://www.ikea.com/PIAimages/0669814_PE716467_S5.JPG?f=xs', 'https://www.ikea.com/PIAimages/0669854_PE716475_S5.JPG?f=xs', 'https://www.ikea.com/PIAimages/0669829_PE716478_S5.JPG?f=xs', 'https://www.ikea.com/PIAimages/0669833_PE716482_S5.JPG?f=xs', 'https://www.ikea.com/PIAimages/0669817_PE716469_S5.JPG?f=xs', 'https://www.ikea.com/PIAimages/0669857_PE716485_S5.JPG?f=xs'], ['https://www.ikea.com/PIAimages/0736033_PE740360_S5.JPG?f=xs', 'https://www.ikea.com/PIAimages/0736031_PE740358_S5.JPG?f=xs', 'https://www.ikea.com/PIAimages/0131156_PE285715_S5.JPG?f=xs', 'https://www.ikea.com/PIAimages/0728356_PE736197_S5.JPG?f=xs', 'https://www.ikea.com/PIAimages/0736309_PE740449_S5.JPG?f=xs', 'https://www.ikea.com/PIAimages/0729497_PE737002_S5.JPG?f=xs', 'https://www.ikea.com/PIAimages/0736301_PE740458_S5.JPG?f=xs', 'https://www.ikea.com/PIAimages/0728395_PE736229_S5.JPG?f=xs', 'https://www.ikea.com/PIAimages/0729515_PE737032_S5.JPG?f=xs', 'https://www.ikea.com/PIAimages/0138640_PE298384_S5.JPG?f=xs', 'https://www.ikea.com/PIAimages/0137503_PE295933_S5.JPG?f=xs', 'https://www.ikea.com/PIAimages/0735754_PE740162_S5.JPG?f=xs', 'https://www.ikea.com/PIAimages/0729496_PE737015_S5.JPG?f=xs', 'https://www.ikea.com/PIAimages/0728725_PE736423_S5.JPG?f=xs', 'https://www.ikea.com/PIAimages/0131146_PE285693_S5.JPG?f=xs', 'https://www.ikea.com/PIAimages/0736316_PE740445_S5.JPG?f=xs', 'https://www.ikea.com/PIAimages/0727613_PE735738_S5.JPG?f=xs', 'https://www.ikea.com/PIAimages/0736488_PE740579_S5.JPG?f=xs', 'https://www.ikea.com/PIAimages/0736058_PE740370_S5.JPG?f=xs', 'https://www.ikea.com/PIAimages/0736462_PE740546_S5.JPG?f=xs', 'https://www.ikea.com/PIAimages/0285948_PE422902_S5.JPG?f=xs', 'https://www.ikea.com/PIAimages/0755817_PE748627_S5.JPG?f=xs', 'https://www.ikea.com/PIAimages/0131145_PE285692_S5.JPG?f=xs', 'https://www.ikea.com/PIAimages/0690552_PE723352_S5.JPG?f=xs'], ['https://www.ikea.com/PIAimages/0260736_PE404587_S5.JPG?f=xs', 'https://www.ikea.com/PIAimages/0735967_PE740301_S5.JPG?f=xs', 'https://www.ikea.com/PIAimages/0260729_PE404586_S5.JPG?f=xs', 'https://www.ikea.com/PIAimages/0625051_PE692077_S5.JPG?f=xs'], ['https://www.ikea.com/PIAimages/0607745_PE683174_S5.JPG?f=xs'], ['https://www.ikea.com/PIAimages/0615925_PE687511_S5.JPG?f=xs', 'https://www.ikea.com/PIAimages/0186175_PE338224_S5.JPG?f=xs', 'https://www.ikea.com/PIAimages/0528684_PE645920_S5.JPG?f=xs', 'https://www.ikea.com/PIAimages/0528490_PE645817_S5.JPG?f=xs', 'https://www.ikea.com/PIAimages/0528686_PE645922_S5.JPG?f=xs', 'https://www.ikea.com/PIAimages/0713433_PE729526_S5.JPG?f=xs', 'https://www.ikea.com/PIAimages/0712898_PE729136_S5.JPG?f=xs'], ['https://www.ikea.com/PIAimages/0736651_PE740684_S5.JPG?f=xs', 'https://www.ikea.com/PIAimages/0728342_PE736203_S5.JPG?f=xs', 'https://www.ikea.com/PIAimages/0736653_PE740686_S5.JPG?f=xs', 'https://www.ikea.com/PIAimages/0237654_PE376921_S5.JPG?f=xs', 'https://www.ikea.com/PIAimages/0237649_PE376922_S5.JPG?f=xs', 'https://www.ikea.com/PIAimages/0735743_PE740164_S5.JPG?f=xs', 'https://www.ikea.com/PIAimages/0736657_PE740690_S5.JPG?f=xs', 'https://www.ikea.com/PIAimages/0736627_PE740676_S5.JPG?f=xs', 'https://www.ikea.com/PIAimages/0666962_PE713782_S5.JPG?f=xs', 'https://www.ikea.com/PIAimages/0638443_PE698948_S5.JPG?f=xs', 'https://www.ikea.com/PIAimages/0736646_PE740680_S5.JPG?f=xs'], ['https://www.ikea.com/PIAimages/0563129_PE663695_S5.JPG?f=xs', 'https://www.ikea.com/PIAimages/0637517_PE698357_S5.JPG?f=xs'], ['https://www.ikea.com/PIAimages/0651100_PE706668_S5.JPG?f=xs', 'https://www.ikea.com/PIAimages/0563129_PE663695_S5.JPG?f=xs', 'https://www.ikea.com/PIAimages/0651099_PE706667_S5.JPG?f=xs', 'https://www.ikea.com/PIAimages/0285559_PE422523_S5.JPG?f=xs', 'https://www.ikea.com/PIAimages/0637517_PE698357_S5.JPG?f=xs'], ['https://www.ikea.com/PIAimages/0714493_PE730105_S5.JPG?f=xs', 'https://www.ikea.com/PIAimages/0714500_PE730107_S5.JPG?f=xs', 'https://www.ikea.com/PIAimages/0714490_PE730102_S5.JPG?f=xs', 'https://www.ikea.com/PIAimages/0712362_PE728781_S5.JPG?f=xs', 'https://www.ikea.com/PIAimages/0714491_PE730103_S5.JPG?f=xs']]\n"
     ]
    }
   ],
   "source": [
    "print(all_product_link_temp)\n",
    "print(all_product_img_temp)"
   ]
  },
  {
   "cell_type": "code",
   "execution_count": 72,
   "metadata": {},
   "outputs": [
    {
     "ename": "TypeError",
     "evalue": "'NoneType' object is not callable",
     "output_type": "error",
     "traceback": [
      "\u001b[0;31m---------------------------------------------------------------------------\u001b[0m",
      "\u001b[0;31mTypeError\u001b[0m                                 Traceback (most recent call last)",
      "\u001b[0;32m<ipython-input-72-a0342eeba547>\u001b[0m in \u001b[0;36m<module>\u001b[0;34m()\u001b[0m\n\u001b[0;32m----> 1\u001b[0;31m \u001b[0mall_prod\u001b[0m \u001b[0;34m=\u001b[0m \u001b[0mpd\u001b[0m\u001b[0;34m.\u001b[0m\u001b[0mDataFrame\u001b[0m\u001b[0;34m(\u001b[0m\u001b[0mlist\u001b[0m\u001b[0;34m(\u001b[0m\u001b[0mzip\u001b[0m\u001b[0;34m(\u001b[0m\u001b[0mall_product_link\u001b[0m\u001b[0;34m,\u001b[0m \u001b[0mall_product_img\u001b[0m\u001b[0;34m)\u001b[0m\u001b[0;34m)\u001b[0m\u001b[0;34m,\u001b[0m \u001b[0mcolumns\u001b[0m \u001b[0;34m=\u001b[0m \u001b[0;34m[\u001b[0m\u001b[0;34m'link'\u001b[0m\u001b[0;34m,\u001b[0m \u001b[0;34m'img_url'\u001b[0m\u001b[0;34m]\u001b[0m\u001b[0;34m)\u001b[0m\u001b[0;34m\u001b[0m\u001b[0;34m\u001b[0m\u001b[0m\n\u001b[0m",
      "\u001b[0;31mTypeError\u001b[0m: 'NoneType' object is not callable"
     ]
    }
   ],
   "source": [
    "all_prod = pd.DataFrame(list(zip(all_product_link, all_product_img)), \n",
    "                        columns=['link', 'img_url'])"
   ]
  },
  {
   "cell_type": "code",
   "execution_count": 70,
   "metadata": {},
   "outputs": [
    {
     "name": "stdout",
     "output_type": "stream",
     "text": [
      "440\n",
      "440\n"
     ]
    },
    {
     "data": {
      "text/plain": [
       "'https://www.ikea.com/us/en/p/duktig-9-piece-fruit-basket-set-30185747/'"
      ]
     },
     "execution_count": 70,
     "metadata": {},
     "output_type": "execute_result"
    }
   ],
   "source": [
    "all_product_link = list(set(all_product_link))\n",
    "all_product_img = list(set(all_product_img))\n",
    "print(len(all_product_link))\n",
    "print(len(all_product_img))\n",
    "all_product_link[0]"
   ]
  },
  {
   "cell_type": "code",
   "execution_count": 64,
   "metadata": {},
   "outputs": [],
   "source": [
    "all_product_desc = []\n",
    "for re in all_product_link:\n",
    "    url = re + '?page=10'\n",
    "    r = requests.get(url, headers = headers)\n",
    "    soup = BeautifulSoup(r.text, 'lxml')\n",
    "    \n",
    "    product_html = soup.find_all('meta', {'itemprop': 'description'})\n",
    "   \n",
    "    # there is probably only one of these anyway\n",
    "    product_desc = []\n",
    "    for pd in product_html:\n",
    "        product_desc.append(pd['content'])\n",
    "        \n",
    "    all_product_desc.append(product_desc)\n",
    "    \n",
    "    # breath\n",
    "    time.sleep(1)"
   ]
  },
  {
   "cell_type": "code",
   "execution_count": 22,
   "metadata": {},
   "outputs": [],
   "source": [
    "output = pd.DataFrame(list(zip(info_picture, info_corpus)),\n",
    "                      columns = ['img_url', 'description'])\n",
    "\n",
    "output.to_csv('/home/peter/Documents/projects/insight/copyprisim/results/example.csv')"
   ]
  },
  {
   "cell_type": "code",
   "execution_count": null,
   "metadata": {},
   "outputs": [],
   "source": []
  }
 ],
 "metadata": {
  "kernelspec": {
   "display_name": "Python 3",
   "language": "python",
   "name": "python3"
  },
  "language_info": {
   "codemirror_mode": {
    "name": "ipython",
    "version": 3
   },
   "file_extension": ".py",
   "mimetype": "text/x-python",
   "name": "python",
   "nbconvert_exporter": "python",
   "pygments_lexer": "ipython3",
   "version": "3.6.8"
  }
 },
 "nbformat": 4,
 "nbformat_minor": 2
}
