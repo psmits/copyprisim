{
  "nbformat": 4,
  "nbformat_minor": 0,
  "metadata": {
    "kernelspec": {
      "name": "python3",
      "display_name": "Python 3"
    },
    "language_info": {
      "codemirror_mode": {
        "name": "ipython",
        "version": 3
      },
      "file_extension": ".py",
      "mimetype": "text/x-python",
      "name": "python",
      "nbconvert_exporter": "python",
      "pygments_lexer": "ipython3",
      "version": "3.6.8"
    },
    "colab": {
      "name": "whiteboard_wordlevel.ipynb",
      "provenance": [],
      "collapsed_sections": []
    },
    "accelerator": "GPU"
  },
  "cells": [
    {
      "cell_type": "code",
      "metadata": {
        "id": "Z-18-cGIjQEx",
        "colab_type": "code",
        "outputId": "3fc481af-344b-4fbc-fb96-2c0a14982032",
        "colab": {
          "base_uri": "https://localhost:8080/",
          "height": 35
        }
      },
      "source": [
        "from google.colab import drive\n",
        "drive.mount('/content/drive')"
      ],
      "execution_count": 104,
      "outputs": [
        {
          "output_type": "stream",
          "text": [
            "Drive already mounted at /content/drive; to attempt to forcibly remount, call drive.mount(\"/content/drive\", force_remount=True).\n"
          ],
          "name": "stdout"
        }
      ]
    },
    {
      "cell_type": "code",
      "metadata": {
        "id": "tVxTHCebvZGP",
        "colab_type": "code",
        "colab": {
          "base_uri": "https://localhost:8080/",
          "height": 71
        },
        "outputId": "53471c28-0015-4d28-b133-ec8e3fe507c8"
      },
      "source": [
        "import nltk\n",
        "nltk.download('stopwords')\n",
        "\n",
        "import tensorflow as tf\n",
        "device_name = tf.test.gpu_device_name()\n",
        "if device_name != '/device:GPU:0':\n",
        "  raise SystemError('GPU device not found')\n",
        "print('Found GPU at: {}'.format(device_name))"
      ],
      "execution_count": 105,
      "outputs": [
        {
          "output_type": "stream",
          "text": [
            "[nltk_data] Downloading package stopwords to /root/nltk_data...\n",
            "[nltk_data]   Package stopwords is already up-to-date!\n",
            "Found GPU at: /device:GPU:0\n"
          ],
          "name": "stdout"
        }
      ]
    },
    {
      "cell_type": "code",
      "metadata": {
        "id": "4AnLEY-TYb6v",
        "colab_type": "code",
        "colab": {}
      },
      "source": [
        "!cp drive/My\\ Drive/ikea.csv ."
      ],
      "execution_count": 0,
      "outputs": []
    },
    {
      "cell_type": "code",
      "metadata": {
        "id": "iMFSR-_Ei4zb",
        "colab_type": "code",
        "colab": {}
      },
      "source": [
        "import numpy as np\n",
        "from numpy import array\n",
        "import pandas as pd\n",
        "from random import randint\n",
        "from pickle import dump, load\n",
        "from sklearn.model_selection import train_test_split\n",
        "import sys\n",
        "import string\n",
        "from nltk.tokenize import RegexpTokenizer\n",
        "from nltk.corpus import stopwords\n",
        "from keras.models import Sequential, load_model\n",
        "from keras.layers import Dense, Dropout, LSTM, Embedding\n",
        "from keras.utils import np_utils, to_categorical\n",
        "from keras.callbacks import ModelCheckpoint\n",
        "from keras.preprocessing.text import Tokenizer\n",
        "from keras.preprocessing.sequence import pad_sequences\n",
        "\n",
        "\n",
        "def clean_text(input):\n",
        "  # lowercase everything to standardize it\n",
        "  input = input.lower()\n",
        "\n",
        "  # tokenizer\n",
        "  tokenizer = RegexpTokenizer(r'\\w+')\n",
        "  tokens = tokenizer.tokenize(input)\n",
        "  \n",
        "  # remove punctuation\n",
        "  table = str.maketrans('', '', string.punctuation)\n",
        "  tokens = [w.translate(table) for w in tokens]\n",
        "\n",
        "  # remove non alphabetic \n",
        "  tokens = [word for word in tokens if word.isalpha()]\n",
        "  \n",
        "\t# make lower case\n",
        "  tokens = [word.lower() for word in tokens]\n",
        "  return tokens\n",
        "\n",
        "\n",
        "def load_doc(filename):\n",
        "\t# open the file as read only\n",
        "\tfile = open(filename, 'r')\n",
        "\t# read all text\n",
        "\ttext = file.read()\n",
        "\t# close the file\n",
        "\tfile.close()\n",
        "\treturn text\n",
        "\n",
        "\n",
        "# save tokens to file, one sequence per line\n",
        "def save_doc(lines, filename):\n",
        "\tdata = '\\n'.join(lines)\n",
        "\tfile = open(filename, 'w')\n",
        "\tfile.write(data)\n",
        "\tfile.close()\n",
        "\n",
        "  \n",
        "# load doc into memory\n",
        "def load_doc(filename):\n",
        "\t# open the file as read only\n",
        "\tfile = open(filename, 'r')\n",
        "\t# read all text\n",
        "\ttext = file.read()\n",
        "\t# close the file\n",
        "\tfile.close()\n",
        "\treturn text\n",
        "\n",
        "\n",
        "# generate a sequence from a language model\n",
        "def generate_seq(model, tokenizer, seq_length, seed_text, n_words):\n",
        "\tresult = list()\n",
        "\tin_text = seed_text\n",
        "\t# generate a fixed number of words\n",
        "\tfor _ in range(n_words):\n",
        "\t\t# encode the text as integer\n",
        "\t\tencoded = tokenizer.texts_to_sequences([in_text])[0]\n",
        "\t\t# truncate sequences to a fixed length\n",
        "\t\tencoded = pad_sequences([encoded], maxlen=seq_length, truncating='pre')\n",
        "\t\t# predict probabilities for each word\n",
        "\t\tyhat = model.predict_classes(encoded, verbose=0)\n",
        "\t\t# map predicted word index to word\n",
        "\t\tout_word = ''\n",
        "\t\tfor word, index in tokenizer.word_index.items():\n",
        "\t\t\tif index == yhat:\n",
        "\t\t\t\tout_word = word\n",
        "\t\t\t\tbreak\n",
        "\t\t# append to input\n",
        "\t\tin_text += ' ' + out_word\n",
        "\t\tresult.append(out_word)\n",
        "\treturn ' '.join(result)"
      ],
      "execution_count": 0,
      "outputs": []
    },
    {
      "cell_type": "code",
      "metadata": {
        "id": "iU_Lb2hY6wvD",
        "colab_type": "code",
        "colab": {}
      },
      "source": [
        "ikea_items = pd.read_csv('ikea.csv')\n",
        "\n",
        "# some items do not have descriptions from the specific box\n",
        "ikea_items = ikea_items.dropna()\n",
        "\n",
        "# some descriptions are identical\n",
        "desc_uni = ikea_items.drop_duplicates(subset='description')\n",
        "\n",
        "# average description length for future generation\n",
        "# desc_avg = round(sum( map(len, desc_uni) ) / len(desc_uni))\n",
        "# desc_std = map(len, desc_uni).std()\n",
        "\n",
        "# split train and test\n",
        "desc_train, desc_test = train_test_split(desc_uni, test_size=0.2)\n",
        "pd.DataFrame(desc_train).to_csv('ikea_train.csv')\n",
        "pd.DataFrame(desc_test).to_csv('ikea_test.csv')\n",
        "\n",
        "# make one corpus\n",
        "desc_single = ' '.join(desc_train.description)"
      ],
      "execution_count": 0,
      "outputs": []
    },
    {
      "cell_type": "code",
      "metadata": {
        "id": "JX8TcM69j_ru",
        "colab_type": "code",
        "colab": {}
      },
      "source": [
        "!cp ikea_test.csv drive/My\\ Drive/.\n",
        "!cp ikea_train.csv drive/My\\ Drive/."
      ],
      "execution_count": 0,
      "outputs": []
    },
    {
      "cell_type": "code",
      "metadata": {
        "id": "F-XgikvgxqsK",
        "colab_type": "code",
        "colab": {}
      },
      "source": [
        "tokens = clean_text(desc_single)"
      ],
      "execution_count": 0,
      "outputs": []
    },
    {
      "cell_type": "code",
      "metadata": {
        "id": "NUzpfwER0Aax",
        "colab_type": "code",
        "colab": {
          "base_uri": "https://localhost:8080/",
          "height": 53
        },
        "outputId": "482f7a06-d0c3-40fb-d167-80d0476690f8"
      },
      "source": [
        "print('Total Tokens: %d' % len(tokens))\n",
        "print('Unique Tokens: %d' % len(set(tokens)))"
      ],
      "execution_count": 111,
      "outputs": [
        {
          "output_type": "stream",
          "text": [
            "Total Tokens: 87190\n",
            "Unique Tokens: 3501\n"
          ],
          "name": "stdout"
        }
      ]
    },
    {
      "cell_type": "code",
      "metadata": {
        "id": "6f5VtRvR0JD9",
        "colab_type": "code",
        "colab": {}
      },
      "source": [
        "# make sequences of words from the full corpus\n",
        "length = 50 + 1\n",
        "sequences = list()\n",
        "for i in range(length, len(tokens)):\n",
        "\t# select sequence of tokens\n",
        "\tseq = tokens[i-length:i]\n",
        "\t# convert into a line\n",
        "\tline = ' '.join(seq)\n",
        "\t# store\n",
        "\tsequences.append(line)\n",
        "  \n",
        "#print('Total Sequences: %d' % len(sequences))\n",
        "\n",
        "out_filename = 'ikea_train_sequences.txt'\n",
        "save_doc(sequences, out_filename)"
      ],
      "execution_count": 0,
      "outputs": []
    },
    {
      "cell_type": "code",
      "metadata": {
        "id": "NL5HZbgO16sz",
        "colab_type": "code",
        "colab": {}
      },
      "source": [
        "!cp ikea_train_sequences.txt drive/My\\ Drive/."
      ],
      "execution_count": 0,
      "outputs": []
    },
    {
      "cell_type": "code",
      "metadata": {
        "id": "6dkfMiXZ1l3a",
        "colab_type": "code",
        "colab": {}
      },
      "source": [
        "# load\n",
        "in_filename = 'ikea_train_sequences.txt'\n",
        "doc = load_doc(in_filename)\n",
        "lines = doc.split('\\n')"
      ],
      "execution_count": 0,
      "outputs": []
    },
    {
      "cell_type": "code",
      "metadata": {
        "id": "v_5nOb3X1l9x",
        "colab_type": "code",
        "colab": {}
      },
      "source": [
        "# code as integers\n",
        "\n",
        "# integer encode sequences of words\n",
        "tokenizer = Tokenizer()\n",
        "tokenizer.fit_on_texts(lines)\n",
        "sequences = tokenizer.texts_to_sequences(lines)"
      ],
      "execution_count": 0,
      "outputs": []
    },
    {
      "cell_type": "code",
      "metadata": {
        "id": "3akSvCov2v9Q",
        "colab_type": "code",
        "colab": {}
      },
      "source": [
        "# vocabulary size\n",
        "vocab_size = len(tokenizer.word_index) + 1"
      ],
      "execution_count": 0,
      "outputs": []
    },
    {
      "cell_type": "code",
      "metadata": {
        "id": "IhFAKjqP2wG1",
        "colab_type": "code",
        "colab": {}
      },
      "source": [
        "# separate into input and output\n",
        "sequences = array(sequences)\n",
        "X, y = sequences[:,:-1], sequences[:,-1]\n",
        "y = to_categorical(y, num_classes=vocab_size)\n",
        "seq_length = X.shape[1]"
      ],
      "execution_count": 0,
      "outputs": []
    },
    {
      "cell_type": "code",
      "metadata": {
        "id": "AWriqfjh2wRJ",
        "colab_type": "code",
        "colab": {}
      },
      "source": [
        "# define model\n",
        "model = Sequential()\n",
        "model.add(Embedding(vocab_size, 50, input_length=seq_length))\n",
        "model.add(LSTM(100, return_sequences=True))\n",
        "model.add(LSTM(100))\n",
        "model.add(Dense(100, activation='relu'))\n",
        "model.add(Dense(vocab_size, activation='softmax'))\n",
        "# print(model.summary())"
      ],
      "execution_count": 0,
      "outputs": []
    },
    {
      "cell_type": "code",
      "metadata": {
        "id": "c45A_zX93Ogn",
        "colab_type": "code",
        "colab": {}
      },
      "source": [
        "# compile model\n",
        "model.compile(loss='categorical_crossentropy', \n",
        "              optimizer='adam', \n",
        "              metrics=['accuracy'])\n",
        "\n",
        "# helpful checkpoints\n",
        "filepath = \"word_model_weights_saved.hdf5\"\n",
        "checkpoint = ModelCheckpoint(filepath, \n",
        "                             monitor='loss', \n",
        "                             verbose=1, \n",
        "                             save_best_only=True, \n",
        "                             mode='min')\n",
        "desired_callbacks = [checkpoint]"
      ],
      "execution_count": 0,
      "outputs": []
    },
    {
      "cell_type": "code",
      "metadata": {
        "id": "VAPmQFpQ3Ond",
        "colab_type": "code",
        "colab": {
          "base_uri": "https://localhost:8080/",
          "height": 755
        },
        "outputId": "9fa8d742-a4be-4a9e-8754-ab83d039d2e9"
      },
      "source": [
        "# fit model\n",
        "model.fit(X, y, epochs=10, batch_size=256, callbacks=desired_callbacks)"
      ],
      "execution_count": 96,
      "outputs": [
        {
          "output_type": "stream",
          "text": [
            "Epoch 1/10\n",
            "86431/86431 [==============================] - 52s 606us/step - loss: 4.5034 - acc: 0.2070\n",
            "\n",
            "Epoch 00001: loss improved from 4.95669 to 4.50337, saving model to word_model_weights_saved.hdf5\n",
            "Epoch 2/10\n",
            "86431/86431 [==============================] - 52s 606us/step - loss: 4.3225 - acc: 0.2239\n",
            "\n",
            "Epoch 00002: loss improved from 4.50337 to 4.32249, saving model to word_model_weights_saved.hdf5\n",
            "Epoch 3/10\n",
            "86431/86431 [==============================] - 52s 604us/step - loss: 4.1605 - acc: 0.2405\n",
            "\n",
            "Epoch 00003: loss improved from 4.32249 to 4.16053, saving model to word_model_weights_saved.hdf5\n",
            "Epoch 4/10\n",
            "86431/86431 [==============================] - 52s 603us/step - loss: 4.0103 - acc: 0.2562\n",
            "\n",
            "Epoch 00004: loss improved from 4.16053 to 4.01032, saving model to word_model_weights_saved.hdf5\n",
            "Epoch 5/10\n",
            "86431/86431 [==============================] - 52s 602us/step - loss: 3.8585 - acc: 0.2740\n",
            "\n",
            "Epoch 00005: loss improved from 4.01032 to 3.85851, saving model to word_model_weights_saved.hdf5\n",
            "Epoch 6/10\n",
            "86431/86431 [==============================] - 52s 600us/step - loss: 3.7227 - acc: 0.2916\n",
            "\n",
            "Epoch 00006: loss improved from 3.85851 to 3.72270, saving model to word_model_weights_saved.hdf5\n",
            "Epoch 7/10\n",
            "86431/86431 [==============================] - 52s 602us/step - loss: 3.6029 - acc: 0.3095\n",
            "\n",
            "Epoch 00007: loss improved from 3.72270 to 3.60290, saving model to word_model_weights_saved.hdf5\n",
            "Epoch 8/10\n",
            "86431/86431 [==============================] - 52s 604us/step - loss: 3.4916 - acc: 0.3256\n",
            "\n",
            "Epoch 00008: loss improved from 3.60290 to 3.49158, saving model to word_model_weights_saved.hdf5\n",
            "Epoch 9/10\n",
            "86431/86431 [==============================] - 52s 604us/step - loss: 3.3945 - acc: 0.3398\n",
            "\n",
            "Epoch 00009: loss improved from 3.49158 to 3.39454, saving model to word_model_weights_saved.hdf5\n",
            "Epoch 10/10\n",
            "86431/86431 [==============================] - 52s 607us/step - loss: 3.3001 - acc: 0.3553\n",
            "\n",
            "Epoch 00010: loss improved from 3.39454 to 3.30015, saving model to word_model_weights_saved.hdf5\n"
          ],
          "name": "stdout"
        },
        {
          "output_type": "execute_result",
          "data": {
            "text/plain": [
              "<keras.callbacks.History at 0x7f81a43136a0>"
            ]
          },
          "metadata": {
            "tags": []
          },
          "execution_count": 96
        }
      ]
    },
    {
      "cell_type": "code",
      "metadata": {
        "id": "dZ3ISUom3Ou7",
        "colab_type": "code",
        "colab": {}
      },
      "source": [
        "# save the model\n",
        "model.save('ikea_word_model.h5')\n",
        "# save the tokenizer\n",
        "dump(tokenizer, open('word_tokenizer.pkl', 'wb'))"
      ],
      "execution_count": 0,
      "outputs": []
    },
    {
      "cell_type": "code",
      "metadata": {
        "id": "BFOYPqspIQw_",
        "colab_type": "code",
        "colab": {}
      },
      "source": [
        "!cp ikea_word_model.h5 drive/My\\ Drive/.\n",
        "!cp word_tokenizer.pkl drive/My\\ Drive/.\n",
        "!cp word_model_weights_saved.hdf5 drive/My\\ Drive/."
      ],
      "execution_count": 0,
      "outputs": []
    },
    {
      "cell_type": "code",
      "metadata": {
        "id": "27gZNmjB5wMV",
        "colab_type": "code",
        "colab": {}
      },
      "source": [
        "## load cleaned text sequences\n",
        "#in_filename = 'ikea_train_sequences.txt'\n",
        "#doc = load_doc(in_filename)\n",
        "#lines = doc.split('\\n')\n",
        "#\n",
        "#seq_length = len(lines[0].split()) - 1\n",
        "#\n",
        "## load the model\n",
        "#model = load_model('ikea_word_model.h5')\n",
        "#\n",
        "## load the tokenizer\n",
        "#tokenizer = load(open('word_tokenizer.pkl', 'rb'))\n",
        "#\n",
        "## select a seed text\n",
        "#seed_text = lines[randint(0,len(lines))]\n",
        "#print(seed_text + '\\n')\n",
        "#\n",
        "## generate new text\n",
        "#generated = generate_seq(model, tokenizer, seq_length, seed_text, 50)\n",
        "#print(generated)"
      ],
      "execution_count": 0,
      "outputs": []
    }
  ]
}