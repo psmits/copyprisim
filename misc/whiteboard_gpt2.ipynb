{
 "cells": [
  {
   "cell_type": "code",
   "execution_count": 2,
   "metadata": {},
   "outputs": [
    {
     "name": "stdout",
     "output_type": "stream",
     "text": [
      "Loading checkpoint /home/peter/Documents/projects/insight/copyprism/flask/app/static/model/checkpoint/run1/model-300\n",
      "WARNING:tensorflow:From /home/peter/.local/lib/python3.6/site-packages/tensorflow/python/training/saver.py:1276: checkpoint_exists (from tensorflow.python.training.checkpoint_management) is deprecated and will be removed in a future version.\n",
      "Instructions for updating:\n",
      "Use standard file APIs to check for files with this prefix.\n",
      "INFO:tensorflow:Restoring parameters from /home/peter/Documents/projects/insight/copyprism/flask/app/static/model/checkpoint/run1/model-300\n"
     ]
    }
   ],
   "source": [
    "# !pip3 install -q gpt-2-simple\n",
    "import gpt_2_simple as gpt2\n",
    "\n",
    "sess = gpt2.start_tf_sess()\n",
    "\n",
    "gpt2.load_gpt2(sess, \n",
    "               run_name='run1', \n",
    "               checkpoint_dir='/home/peter/Documents/projects/insight/copyprism/flask/app/static/model/checkpoint/')"
   ]
  },
  {
   "cell_type": "code",
   "execution_count": 5,
   "metadata": {},
   "outputs": [
    {
     "data": {
      "text/plain": [
       "[\"Bookcase in tempered glass. The lid protects the contents and makes the box stackable. \\nA simple unit can be enough storage for a limited space or the foundation for a larger storage solution if your needs change. You can create your own unique solution by freely combining cabinets of different sizes, as they’re made possible through the inclusion of inks. You can also use the door's integrated dampers to ensure the highest possible humidity level while protecting your sink from dust. The door's integrated damp\"]"
      ]
     },
     "execution_count": 5,
     "metadata": {},
     "output_type": "execute_result"
    }
   ],
   "source": [
    "def sequence_gen(sess,\n",
    "                 prefix, \n",
    "                 length=100,\n",
    "                 temperature=0.7, \n",
    "                 nsamples=1, \n",
    "                 batch_size=1):\n",
    "\n",
    "    text = gpt2.generate(sess, \n",
    "                         length=length, \n",
    "                         temperature=temperature,\n",
    "                         prefix=prefix,\n",
    "                         nsamples=nsamples, \n",
    "                         batch_size=batch_size,\n",
    "                         return_as_list=True, run_name='run1', \n",
    "                         checkpoint_dir='/home/peter/Documents/projects/insight/copyprism/flask/app/static/model/checkpoint/')\n",
    "\n",
    "    return text\n",
    "\n",
    "\n",
    "sequence_gen(sess=sess, prefix='Bookcase')"
   ]
  }
 ],
 "metadata": {
  "kernelspec": {
   "display_name": "Python 3",
   "language": "python",
   "name": "python3"
  },
  "language_info": {
   "codemirror_mode": {
    "name": "ipython",
    "version": 3
   },
   "file_extension": ".py",
   "mimetype": "text/x-python",
   "name": "python",
   "nbconvert_exporter": "python",
   "pygments_lexer": "ipython3",
   "version": "3.6.8"
  }
 },
 "nbformat": 4,
 "nbformat_minor": 2
}
