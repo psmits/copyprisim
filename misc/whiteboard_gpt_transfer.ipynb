{
  "nbformat": 4,
  "nbformat_minor": 0,
  "metadata": {
    "colab": {
      "name": "whiteboard_gpt_transfer.ipynb",
      "provenance": [],
      "collapsed_sections": []
    },
    "kernelspec": {
      "name": "python3",
      "display_name": "Python 3"
    },
    "accelerator": "GPU"
  },
  "cells": [
    {
      "cell_type": "code",
      "metadata": {
        "id": "g49APdPi31wJ",
        "colab_type": "code",
        "outputId": "e4a93083-b3aa-4391-bfa4-ea9553928da0",
        "colab": {
          "base_uri": "https://localhost:8080/",
          "height": 343
        }
      },
      "source": [
        "!pip install -q gpt-2-simple\n",
        "import gpt_2_simple as gpt2\n",
        "from datetime import datetime\n",
        "from google.colab import files\n",
        "\n",
        "!nvidia-smi"
      ],
      "execution_count": 0,
      "outputs": [
        {
          "output_type": "stream",
          "text": [
            "Sat Sep 28 21:34:34 2019       \n",
            "+-----------------------------------------------------------------------------+\n",
            "| NVIDIA-SMI 430.40       Driver Version: 418.67       CUDA Version: 10.1     |\n",
            "|-------------------------------+----------------------+----------------------+\n",
            "| GPU  Name        Persistence-M| Bus-Id        Disp.A | Volatile Uncorr. ECC |\n",
            "| Fan  Temp  Perf  Pwr:Usage/Cap|         Memory-Usage | GPU-Util  Compute M. |\n",
            "|===============================+======================+======================|\n",
            "|   0  Tesla T4            Off  | 00000000:00:04.0 Off |                    0 |\n",
            "| N/A   64C    P8    12W /  70W |      0MiB / 15079MiB |      0%      Default |\n",
            "+-------------------------------+----------------------+----------------------+\n",
            "                                                                               \n",
            "+-----------------------------------------------------------------------------+\n",
            "| Processes:                                                       GPU Memory |\n",
            "|  GPU       PID   Type   Process name                             Usage      |\n",
            "|=============================================================================|\n",
            "|  No running processes found                                                 |\n",
            "+-----------------------------------------------------------------------------+\n"
          ],
          "name": "stdout"
        }
      ]
    },
    {
      "cell_type": "code",
      "metadata": {
        "id": "w6YJqKz441JA",
        "colab_type": "code",
        "outputId": "32d96356-18eb-4011-d3d2-6bccef83d96b",
        "colab": {
          "base_uri": "https://localhost:8080/",
          "height": 143
        }
      },
      "source": [
        "gpt2.download_gpt2(model_name='124M')"
      ],
      "execution_count": 0,
      "outputs": [
        {
          "output_type": "stream",
          "text": [
            "Fetching checkpoint: 1.05Mit [00:00, 334Mit/s]                                                      \n",
            "Fetching encoder.json: 1.05Mit [00:00, 149Mit/s]                                                    \n",
            "Fetching hparams.json: 1.05Mit [00:00, 327Mit/s]                                                    \n",
            "Fetching model.ckpt.data-00000-of-00001: 498Mit [00:06, 82.0Mit/s]                                  \n",
            "Fetching model.ckpt.index: 1.05Mit [00:00, 284Mit/s]                                                \n",
            "Fetching model.ckpt.meta: 1.05Mit [00:00, 181Mit/s]                                                 \n",
            "Fetching vocab.bpe: 1.05Mit [00:00, 208Mit/s]                                                       \n"
          ],
          "name": "stderr"
        }
      ]
    },
    {
      "cell_type": "code",
      "metadata": {
        "id": "m7vPFLrN45Rd",
        "colab_type": "code",
        "outputId": "ad65a216-a2bf-4dbc-bbdb-9660408baa07",
        "colab": {
          "base_uri": "https://localhost:8080/",
          "height": 55
        }
      },
      "source": [
        "gpt2.mount_gdrive()"
      ],
      "execution_count": 0,
      "outputs": [
        {
          "output_type": "stream",
          "text": [
            "Drive already mounted at /content/drive; to attempt to forcibly remount, call drive.mount(\"/content/drive\", force_remount=True).\n"
          ],
          "name": "stdout"
        }
      ]
    },
    {
      "cell_type": "code",
      "metadata": {
        "id": "kRf3_j-l9uAa",
        "colab_type": "code",
        "colab": {}
      },
      "source": [
        "!cp drive/My\\ Drive/ikea_2.csv .\n",
        "!cp drive/My\\ Drive/ikea_word_train.csv ."
      ],
      "execution_count": 0,
      "outputs": []
    },
    {
      "cell_type": "code",
      "metadata": {
        "id": "DNskhAMQ94dj",
        "colab_type": "code",
        "colab": {}
      },
      "source": [
        "import pandas as pd\n",
        "\n",
        "ikea_items = pd.read_csv('ikea_2.csv')\n",
        "ikea_train = pd.read_csv('ikea_word_train.csv')\n",
        "\n",
        "# save tokens to file, one sequence per line\n",
        "def save_doc(lines, filename):\n",
        "\tdata = '\\n'.join(lines)\n",
        "\tfile = open(filename, 'w')\n",
        "\tfile.write(data)\n",
        "\tfile.close()\n",
        "\n",
        "iktl = ikea_train.description.tolist()\n",
        "filename = 'iktl.txt'\n",
        "save_doc(iktl, filename)\n",
        "\n",
        "iktf = ikea_train.description.to_frame()\n",
        "iktf.to_csv('iktf.csv', index=False)\n",
        "\n",
        "# need as .txt file\n",
        "# write line by line\n",
        "# then name filename\n",
        "# locate in drive\n",
        "\n",
        "# can also do single column csv for pretty printing"
      ],
      "execution_count": 0,
      "outputs": []
    },
    {
      "cell_type": "code",
      "metadata": {
        "id": "Q2whpmmVFtkT",
        "colab_type": "code",
        "outputId": "ee2dd221-2873-4888-9eaf-70b3b07893a4",
        "colab": {
          "base_uri": "https://localhost:8080/",
          "height": 1000
        }
      },
      "source": [
        "sess = gpt2.start_tf_sess()\n",
        "\n",
        "gpt2.finetune(sess,\n",
        "              dataset='iktl.txt',\n",
        "              model_name='124M',\n",
        "              steps=300,\n",
        "              restore_from='fresh',\n",
        "              run_name='run1',\n",
        "              print_every=10,\n",
        "              sample_every=200,\n",
        "              save_every=500)\n",
        "\n",
        "gpt2.copy_checkpoint_to_gdrive(run_name='run1')"
      ],
      "execution_count": 0,
      "outputs": [
        {
          "output_type": "stream",
          "text": [
            "WARNING:tensorflow:From /usr/local/lib/python3.6/dist-packages/gpt_2_simple/src/sample.py:17: add_dispatch_support.<locals>.wrapper (from tensorflow.python.ops.array_ops) is deprecated and will be removed in a future version.\n",
            "Instructions for updating:\n",
            "Use tf.where in 2.0, which has the same broadcast rule as np.where\n",
            "Loading checkpoint models/124M/model.ckpt\n",
            "WARNING:tensorflow:From /usr/local/lib/python3.6/dist-packages/tensorflow/python/training/saver.py:1276: checkpoint_exists (from tensorflow.python.training.checkpoint_management) is deprecated and will be removed in a future version.\n",
            "Instructions for updating:\n",
            "Use standard file APIs to check for files with this prefix.\n",
            "INFO:tensorflow:Restoring parameters from models/124M/model.ckpt\n"
          ],
          "name": "stdout"
        },
        {
          "output_type": "stream",
          "text": [
            "\r  0%|          | 0/1 [00:00<?, ?it/s]"
          ],
          "name": "stderr"
        },
        {
          "output_type": "stream",
          "text": [
            "Loading dataset...\n"
          ],
          "name": "stdout"
        },
        {
          "output_type": "stream",
          "text": [
            "\r100%|██████████| 1/1 [00:00<00:00,  2.53it/s]\n"
          ],
          "name": "stderr"
        },
        {
          "output_type": "stream",
          "text": [
            "dataset has 76366 tokens\n",
            "Training...\n",
            "[10 | 29.08] loss=2.79 avg=2.79\n",
            "[20 | 52.74] loss=2.41 avg=2.60\n",
            "[30 | 77.14] loss=1.87 avg=2.35\n",
            "[40 | 100.90] loss=1.61 avg=2.16\n",
            "[50 | 124.43] loss=1.52 avg=2.03\n",
            "[60 | 148.27] loss=1.09 avg=1.87\n",
            "[70 | 172.16] loss=0.96 avg=1.74\n",
            "[80 | 195.93] loss=0.71 avg=1.61\n",
            "[90 | 219.67] loss=0.63 avg=1.49\n",
            "[100 | 243.53] loss=0.50 avg=1.39\n",
            "[110 | 267.47] loss=0.53 avg=1.31\n",
            "[120 | 291.32] loss=0.40 avg=1.23\n",
            "[130 | 315.14] loss=0.30 avg=1.15\n",
            "[140 | 338.97] loss=0.21 avg=1.08\n",
            "[150 | 362.80] loss=0.25 avg=1.02\n",
            "[160 | 386.61] loss=0.25 avg=0.97\n",
            "[170 | 410.40] loss=0.21 avg=0.92\n",
            "[180 | 434.19] loss=0.16 avg=0.87\n",
            "[190 | 458.04] loss=0.26 avg=0.84\n",
            "[200 | 481.92] loss=0.17 avg=0.80\n",
            "======== SAMPLE 1 ========\n",
            "alware) in which you also add plastic back cushions or insert back cushions to create a full armchair. The armchair adds comfort to your chair and allows you to quickly regain your seat after a long day of school and activities. The divider on the top of the seat allows you to easily see and reach the top of the chaise. The divider on the back makes it easy to remove the back cushions if you have them pulled out. You can place the chaise section to the left or right of the sofa, and switch whenever you like. Storage space under the chaise. The lid stays open so you can safely and easily take things in and out. The cover has a high percentage of cotton that gives a warm and natural look to your clothes. The fabric both looks and feels soft thanks to the two-tone effect and the fine structure. The cover is easy to keep clean since it is removable and machine washable. 10-year limited warrranty. Read about the terms in the limited warranty brochure. \n",
            "KIVIK is a generous seating series with a soft, deep seat and comfortable support for your back. Contact areas covered in high quality and thick, 1.4 mm, grain leather which ages gracefully and acquires a beautiful patina over time. The outer surfaces are covered in a durable coated fabric with the same look and feel as leather. Seat cushions have a layer of memory foam that softly follows the contours of your body and gives comfortable support where needed. You can place the chaise section to the left or right of the sofa, and switch whenever you like. It is easy to combine the sofa with one or more chaise lounges thanks to the removable armrests. You can use the wide and long armrests with extra filling both as an extra place to sit and as a comfortable headrest when you're lying down on the sofa. 10-year limited warrranty. Read about the terms in the limited warranty brochure. \n",
            "For a longer rail, connect two FINTORP rails together using only one bracket. The rails can also be used for hanging towels. \n",
            "The chair is easy to store when not in use, since you don't need the extra hardware, rivets and hoops to mount it directly to the bone. Adjustable hinges allow you to adjust the chair to your space as well as an empty space on the floor. Perfect in a small bathroom. \n",
            "Solid wood is a durable natural material. Adjustable feet for stability on uneven floors. The door has an integrated push-opener so you can open it with just a light push. Adjustable shelves, so you can customize your storage as needed. \n",
            "The eucalyptus slats have grain variations and natural color shifts that give the furniture a warm and natural look. You can make your bench more comfortable and personal by adding a pad in a style you like. For added durability and so you can enjoy the natural expression of the wood, the furniture has been pre-treated with several layers of semi-transparent wood stain. \n",
            "Each bungyrew provides a different look to your room, so that you can choose if you want to hang inside or be in the bedroom. If you want some variation, you can easily change the motif in the bungy. If you want to keep the curtain rod longer, you can simply add a strip of wood. \n",
            "The food container is easy to store when not in use, since you can stack up to 6 food carts on top of each other. You can’t wait to use the storage space on your walls! The container is made of durable plastic that keeps its shape even when you stand up, so it’s extra nice to have a place to store your favorite meals. There’s plenty of space under the bed for storage boxes – great for stowing extra quilts and sheets. You can simply pull out the bed base and wall closet from under the bed and you get both a storage solution and a bedroom solution. The storage solution has a longer life because it can be turned over and used on both sides. You can then use on extra bed sides or create a separate storage solution for the bed. \n",
            "This soft and cozy sofa will have a long life as the seat cushions are filled with high resilience foam that gives good support for your body and quickly regains its original shape when you get up. The sofa's sections can be combined in different ways to get a sectional sofa or a combined bed and sectional sofa in another brand. The elastic sections in the mattress provide a warm and comfortable support for your body when you sofa is extended. The mattress is laminate treated so that it can stand firm for a short time, thanks to the removable mattress pad. The extendable back is a style that can be interchanged with some other. The sectional sofa provides great seating comfort. *Reversible back seat and back leg cushion are available. You can use one of the many\n",
            "\n",
            "[210 | 517.44] loss=0.19 avg=0.77\n",
            "[220 | 541.23] loss=0.14 avg=0.74\n",
            "[230 | 565.11] loss=0.11 avg=0.71\n",
            "[240 | 589.04] loss=0.14 avg=0.68\n",
            "[250 | 612.74] loss=0.10 avg=0.65\n",
            "[260 | 636.29] loss=0.09 avg=0.63\n",
            "[270 | 659.77] loss=0.09 avg=0.61\n",
            "[280 | 683.23] loss=0.07 avg=0.59\n",
            "[290 | 706.63] loss=0.07 avg=0.57\n",
            "[300 | 730.04] loss=0.07 avg=0.55\n",
            "Saving checkpoint/run1/model-300\n"
          ],
          "name": "stdout"
        }
      ]
    },
    {
      "cell_type": "code",
      "metadata": {
        "id": "D_WJuY6zGgVC",
        "colab_type": "code",
        "colab": {}
      },
      "source": [
        "!cp checkpoint_run1.tar drive/My\\ Drive/."
      ],
      "execution_count": 0,
      "outputs": []
    },
    {
      "cell_type": "code",
      "metadata": {
        "id": "Pus-t4vLGvwT",
        "colab_type": "code",
        "colab": {}
      },
      "source": [
        "gpt2.copy_checkpoint_from_gdrive(run_name='run1')"
      ],
      "execution_count": 0,
      "outputs": []
    },
    {
      "cell_type": "code",
      "metadata": {
        "id": "SKb298GEG1RK",
        "colab_type": "code",
        "outputId": "7759f79e-8b5f-48d4-de9e-52c7e028de4e",
        "colab": {
          "base_uri": "https://localhost:8080/",
          "height": 127
        }
      },
      "source": [
        "import gpt_2_simple as gpt2\n",
        "sess = gpt2.start_tf_sess()\n",
        "gpt2.load_gpt2(sess, run_name='run1', )"
      ],
      "execution_count": 0,
      "outputs": [
        {
          "output_type": "stream",
          "text": [
            "Loading checkpoint checkpoint/run1/model-300\n",
            "WARNING:tensorflow:From /usr/local/lib/python3.6/dist-packages/tensorflow/python/training/saver.py:1276: checkpoint_exists (from tensorflow.python.training.checkpoint_management) is deprecated and will be removed in a future version.\n",
            "Instructions for updating:\n",
            "Use standard file APIs to check for files with this prefix.\n",
            "INFO:tensorflow:Restoring parameters from checkpoint/run1/model-300\n"
          ],
          "name": "stdout"
        }
      ]
    },
    {
      "cell_type": "code",
      "metadata": {
        "id": "Qz4_OBauIOH1",
        "colab_type": "code",
        "colab": {}
      },
      "source": [
        "text = gpt2.generate(sess, \n",
        "                     length=100, \n",
        "                     temperature=0.7, \n",
        "                     prefix=\"Bookcase\", \n",
        "                     nsamples=3, \n",
        "                     batch_size=1,\n",
        "                     return_as_list=True)"
      ],
      "execution_count": 0,
      "outputs": []
    },
    {
      "cell_type": "code",
      "metadata": {
        "id": "4oOsmJ9EICZt",
        "colab_type": "code",
        "outputId": "e4c4d00b-2ce0-49a5-b225-cdeb95597b2d",
        "colab": {
          "base_uri": "https://localhost:8080/",
          "height": 91
        }
      },
      "source": [
        "[st.replace('\\n','') for st in text]"
      ],
      "execution_count": 0,
      "outputs": [
        {
          "output_type": "execute_result",
          "data": {
            "text/plain": [
              "['Bookcase in the style of your choice. The high back provides good support for your neck. 10-year limited warrranty. Read about the terms in the limited warranty brochure. You easily create a storage solution that suits your bathroom perfectly by combining this add-on shelf with other furniture in the DYNAN series. Soft rounded shapes and corners make the furniture safe for both children and adults. Perfect in a small bathroom. Protects your clothes from dust. Easy to',\n",
              " 'Bookcase in cloth-covered wood. Lifelike photographs that can be hidden within the cover by pressing too tightly. The lens is inputting depth, which adjusts to the depth of the light. Points of light that emerge evenly over a long exposure. The stopper prevents the food from falling out when the knife is tilted too far. Can be stacked, which helps you save space. Easy to cut to the tooth with the included cut-out. Removable needles help',\n",
              " \"Bookcase in KUNOSA series. Solid wood has a natural look. The shelves are adjustable so you can customize your storage as needed. Adjustable feet for stability on uneven floors. The door's integrated dampers enable it to close slowly, silently and softly. With a glass-door cabinet, you can show off as well as protect your glassware or your favorite collection. You can hide multiple power strips, etc under the removable bottom shelf. With a spacious storage solution everything has its place\"]"
            ]
          },
          "metadata": {
            "tags": []
          },
          "execution_count": 15
        }
      ]
    }
  ]
}