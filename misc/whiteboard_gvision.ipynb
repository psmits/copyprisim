{
 "cells": [
  {
   "cell_type": "markdown",
   "metadata": {},
   "source": [
    "practicing using google vision\n",
    "\n",
    "which technically costs money"
   ]
  },
  {
   "cell_type": "code",
   "execution_count": 1,
   "metadata": {},
   "outputs": [],
   "source": [
    "from google.cloud import vision\n",
    "import io\n",
    "\n",
    "# auth so the whole thing runs\n",
    "import os\n",
    "dir = \"/home/peter/Documents/projects/insight/copyprisim/auth/\"\n",
    "js = \"copyprisim-20edfacb40ce.json\"\n",
    "os.environ[\"GOOGLE_APPLICATION_CREDENTIALS\"] = dir + js"
   ]
  },
  {
   "cell_type": "code",
   "execution_count": 2,
   "metadata": {},
   "outputs": [],
   "source": [
    "def detect_labels(path):\n",
    "    \"\"\"Detects labels in LOCAL file.\"\"\"\n",
    "    client = vision.ImageAnnotatorClient()\n",
    "\n",
    "    with io.open(path, 'rb') as image_file:\n",
    "        content = image_file.read()\n",
    "\n",
    "    image = vision.types.Image(content=content)\n",
    "\n",
    "    response = client.label_detection(image=image)\n",
    "    labels = response.label_annotations\n",
    "    \n",
    "    # list of labels (ignore uncertainty information)\n",
    "    labels = [x.description for x in labels]\n",
    "    return labels"
   ]
  },
  {
   "cell_type": "code",
   "execution_count": 3,
   "metadata": {},
   "outputs": [
    {
     "name": "stdout",
     "output_type": "stream",
     "text": [
      "['Shelving', 'Shelf', 'Furniture', 'Bookcase', 'Brown', 'Cupboard', 'Drawer', 'Wood', 'Chiffonier', 'Hutch']\n"
     ]
    }
   ],
   "source": [
    "local = '/home/peter/Documents/projects/insight/copyprisim/img/billy.jpeg'\n",
    "res = detect_labels(local)\n",
    "print(res)"
   ]
  },
  {
   "cell_type": "code",
   "execution_count": 4,
   "metadata": {},
   "outputs": [
    {
     "data": {
      "text/plain": [
       "'Shelving Shelf Furniture Bookcase Brown Cupboard Drawer Wood Chiffonier Hutch'"
      ]
     },
     "execution_count": 4,
     "metadata": {},
     "output_type": "execute_result"
    }
   ],
   "source": [
    "' '.join(res)"
   ]
  }
 ],
 "metadata": {
  "kernelspec": {
   "display_name": "Python 3",
   "language": "python",
   "name": "python3"
  },
  "language_info": {
   "codemirror_mode": {
    "name": "ipython",
    "version": 3
   },
   "file_extension": ".py",
   "mimetype": "text/x-python",
   "name": "python",
   "nbconvert_exporter": "python",
   "pygments_lexer": "ipython3",
   "version": "3.6.8"
  }
 },
 "nbformat": 4,
 "nbformat_minor": 2
}
