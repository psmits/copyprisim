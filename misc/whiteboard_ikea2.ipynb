{
 "cells": [
  {
   "cell_type": "code",
   "execution_count": 117,
   "metadata": {},
   "outputs": [],
   "source": [
    "from bs4 import BeautifulSoup\n",
    "import time\n",
    "import requests\n",
    "import pandas as pd\n",
    "import csv\n",
    "from random import randint\n",
    "import sys\n",
    "\n",
    "def flatten_list(my_list):\n",
    "    flat_list = []\n",
    "    for ii in my_list:\n",
    "        for jj in ii:\n",
    "            flat_list.append(jj)\n",
    "\n",
    "    return flat_list"
   ]
  },
  {
   "cell_type": "code",
   "execution_count": 118,
   "metadata": {},
   "outputs": [],
   "source": [
    "headers = {\"User-Agent\":\"Ubuntu Chromium/76.0.3809.100\"}\n",
    "           #Mozilla/5.0 (X11; Linux x86_64) \n",
    "           #AppleWebKit/537.36 (KHTML, like Gecko) \n",
    "           #Chrome/76.0.3809.100 Safari/537.36}\n",
    "ikea_base = 'https://www.ikea.com'\n",
    "ikea_series = '/us/en/cat/series-series/'\n",
    "url = ikea_base + ikea_series\n",
    "\n",
    "r = requests.get(url, headers = headers)\n",
    "soup = BeautifulSoup(r.text, 'lxml')\n",
    "\n",
    "# list of all series\n",
    "# find all series links\n",
    "series_list = soup.find_all('li', {'class': 'range-catalog-list__item'})\n",
    "\n",
    "series_link = []\n",
    "for req in series_list:\n",
    "    series_href = req.find_all('a', href=True)\n",
    "    for sh in series_href:\n",
    "        series_link.append(sh['href'])"
   ]
  },
  {
   "cell_type": "code",
   "execution_count": 119,
   "metadata": {},
   "outputs": [],
   "source": [
    "# for each family get all products\n",
    "all_product_link = []\n",
    "all_product_img = []\n",
    "for re in series_link:\n",
    "    url = re + '?page=10'\n",
    "    r = requests.get(url, headers=headers)\n",
    "    series_soup = BeautifulSoup(r.text, 'lxml')\n",
    "    item_list = series_soup.find_all('div', {'class': 'product-compact__spacer'})\n",
    "\n",
    "    item_links = []\n",
    "    img_links = []\n",
    "    for il in item_list:\n",
    "        item_href = il.find_all('a', href=True)\n",
    "        for ih in item_href:\n",
    "            item_links.append(ih['href'])\n",
    "        img_links.append(il.img['src'])\n",
    "    \n",
    "    all_product_link.append(item_links)\n",
    "    all_product_img.append(img_links)\n",
    "    # \n",
    "    # # breath\n",
    "    # time.sleep(1)"
   ]
  },
  {
   "cell_type": "code",
   "execution_count": 120,
   "metadata": {},
   "outputs": [
    {
     "name": "stdout",
     "output_type": "stream",
     "text": [
      "40\n"
     ]
    }
   ],
   "source": [
    "# unique-ness issues\n",
    "all_product_link_temp = [list(set(apl)) for apl in all_product_link]\n",
    "\n",
    "# flatten\n",
    "all_product_link = flatten_list(all_product_link_temp)\n",
    "# flatten\n",
    "all_product_img = flatten_list(all_product_img)"
   ]
  },
  {
   "cell_type": "code",
   "execution_count": 46,
   "metadata": {},
   "outputs": [],
   "source": [
    "all_product_desc = []\n",
    "for re in all_product_link:\n",
    "    url = re\n",
    "    r = requests.get(url, headers = headers)\n",
    "    soup = BeautifulSoup(r.text, 'lxml')\n",
    "        \n",
    "    product_html = soup.find_all('meta', {'itemprop': 'description'})\n",
    "       \n",
    "    product_desc = []\n",
    "    # there is probably only one of these anyway\n",
    "    for pd in product_html:\n",
    "        product_desc.append(pd)\n",
    "        \n",
    "    all_product_desc.append(product_desc)\n",
    "    \n",
    "    # breath\n",
    "    time.sleep(1)"
   ]
  },
  {
   "cell_type": "code",
   "execution_count": 48,
   "metadata": {},
   "outputs": [],
   "source": [
    "# some times description is missing\n",
    "temp = []\n",
    "for apd in all_product_desc:\n",
    "    if len(apd) == 0:\n",
    "        temp.append('')\n",
    "    else:\n",
    "        temp.append(apd[0]['content'])\n",
    "\n",
    "all_product_desc = temp"
   ]
  },
  {
   "cell_type": "code",
   "execution_count": 110,
   "metadata": {},
   "outputs": [],
   "source": [
    "out_tuple = list(zip(all_product_link, all_product_img, all_product_desc))\n",
    "out_tuple[:10]\n",
    "out = pd.DataFrame(out_tuple, columns = ['link', 'img_url', 'description'])\n",
    "\n",
    "out.to_csv('/home/peter/Documents/projects/insight/copyprisim/results/example.csv')"
   ]
  }
 ],
 "metadata": {
  "kernelspec": {
   "display_name": "Python 3",
   "language": "python",
   "name": "python3"
  },
  "language_info": {
   "codemirror_mode": {
    "name": "ipython",
    "version": 3
   },
   "file_extension": ".py",
   "mimetype": "text/x-python",
   "name": "python",
   "nbconvert_exporter": "python",
   "pygments_lexer": "ipython3",
   "version": "3.6.8"
  }
 },
 "nbformat": 4,
 "nbformat_minor": 2
}
